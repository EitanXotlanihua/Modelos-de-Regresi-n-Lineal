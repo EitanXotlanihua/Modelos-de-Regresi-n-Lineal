{
  "nbformat": 4,
  "nbformat_minor": 0,
  "metadata": {
    "colab": {
      "provenance": [],
      "include_colab_link": true
    },
    "kernelspec": {
      "name": "python3",
      "display_name": "Python 3"
    },
    "language_info": {
      "name": "python"
    }
  },
  "cells": [
    {
      "cell_type": "markdown",
      "metadata": {
        "id": "view-in-github",
        "colab_type": "text"
      },
      "source": [
        "<a href=\"https://colab.research.google.com/github/EitanXotlanihua/Modelos-de-Regresi-n-Lineal/blob/main/Actividad_5_.ipynb\" target=\"_parent\"><img src=\"https://colab.research.google.com/assets/colab-badge.svg\" alt=\"Open In Colab\"/></a>"
      ]
    },
    {
      "cell_type": "code",
      "source": [
        "import pandas as pd\n",
        "import numpy as np\n",
        "import matplotlib.pyplot as plt\n",
        "import seaborn as sn"
      ],
      "metadata": {
        "id": "eB7uz1cJJm9S"
      },
      "execution_count": 1,
      "outputs": []
    },
    {
      "cell_type": "code",
      "execution_count": null,
      "metadata": {
        "id": "nXMBM9QoJTLd"
      },
      "outputs": [],
      "source": [
        "#Cargar archivo csv desde equipo\n",
        "from google.colab import files\n",
        "files.upload()"
      ]
    },
    {
      "cell_type": "code",
      "source": [
        "df= pd.read_csv(\"cuentas_credicel.csv\", encoding= 'latin')\n",
        "pd.options.display.max_columns = None\n",
        "df.head(2)"
      ],
      "metadata": {
        "id": "xAEGHdrvJgBs"
      },
      "execution_count": null,
      "outputs": []
    },
    {
      "cell_type": "code",
      "source": [
        "df.info()"
      ],
      "metadata": {
        "id": "C97VusS5oBye"
      },
      "execution_count": null,
      "outputs": []
    },
    {
      "cell_type": "markdown",
      "source": [
        "** *texto en cursiva*Convertir columna plazo**"
      ],
      "metadata": {
        "id": "IjGG7ByU7s2J"
      }
    },
    {
      "cell_type": "code",
      "source": [
        "#Eliminar un signo de una columna\n",
        "df['plazo']=df['plazo'].str.replace('S', '')"
      ],
      "metadata": {
        "id": "z8hOWVLs7mVJ"
      },
      "execution_count": 26,
      "outputs": []
    },
    {
      "cell_type": "code",
      "source": [
        "#Conversión de tipo de dato de columna de tipo Object a int\n",
        "df['plazo']= df['plazo'].astype(int)"
      ],
      "metadata": {
        "id": "vJPdQECr7qqT"
      },
      "execution_count": 27,
      "outputs": []
    },
    {
      "cell_type": "code",
      "source": [
        "#Compruebo que la columna plazo ya se halla convertido a tipo numérico\n",
        "df.info()"
      ],
      "metadata": {
        "id": "N62bR6OcGRA0"
      },
      "execution_count": null,
      "outputs": []
    },
    {
      "cell_type": "markdown",
      "source": [
        "** *texto en cursiva*Convertir riesgo**"
      ],
      "metadata": {
        "id": "syuFNNNC9XwV"
      }
    },
    {
      "cell_type": "code",
      "source": [
        "#Sustituyo los strings mic0437, mic0758 y mic09 por la constante \"0\"\n",
        "df['dis_ventao']=df['dis_venta'].str.replace('mic0437', '0')\n",
        "df['dis_ventao']=df['dis_venta'].str.replace('mic0758', '0')\n",
        "df['dis_ventao']=df['dis_venta'].str.replace('mic09', '0')"
      ],
      "metadata": {
        "id": "m5RY2Kv-73Tu"
      },
      "execution_count": 75,
      "outputs": []
    },
    {
      "cell_type": "code",
      "source": [
        "riesgo_categorias = df.groupby(['dis_ventao'])['dis_ventao'].count()\n",
        "riesgo_categorias"
      ],
      "metadata": {
        "id": "UkKRr6KR77Yh",
        "colab": {
          "base_uri": "https://localhost:8080/"
        },
        "outputId": "3f86af24-9072-4d35-e6a7-e3ef93936041"
      },
      "execution_count": 30,
      "outputs": [
        {
          "output_type": "execute_result",
          "data": {
            "text/plain": [
              "dis_ventao\n",
              "0         288\n",
              "00         99\n",
              "001        22\n",
              "005       135\n",
              "006        82\n",
              "         ... \n",
              "yvs043      4\n",
              "yvs048      3\n",
              "yvs049      1\n",
              "yvs050      5\n",
              "yvs054     14\n",
              "Name: dis_ventao, Length: 585, dtype: int64"
            ]
          },
          "metadata": {},
          "execution_count": 30
        }
      ]
    },
    {
      "cell_type": "code",
      "source": [
        "df[\"dis_ventao\"]= df[\"dis_ventao\"].fillna(0)"
      ],
      "metadata": {
        "id": "54zhj0-e7-Ed"
      },
      "execution_count": 32,
      "outputs": []
    },
    {
      "cell_type": "code",
      "source": [
        "#Compruebo que la columna riesgo ya se halla convertido a tipo numérico\n",
        "df.info()"
      ],
      "metadata": {
        "id": "WIZ5-gYMH_22"
      },
      "execution_count": null,
      "outputs": []
    },
    {
      "cell_type": "code",
      "source": [
        "df[\"puntos\"]=df[\"puntos\"].fillna(method=\"bfill\")"
      ],
      "metadata": {
        "id": "vzXPOzIN_LuA"
      },
      "execution_count": 34,
      "outputs": []
    },
    {
      "cell_type": "code",
      "source": [
        "#Declaramos las variables dependientes e independientes para la regresión lineal\n",
        "Vars_Indep= df[['costo_total']]\n",
        "Var_Dep= df['semana']\n",
        "#Se define model como la función de regresión lineal\n",
        "from sklearn.linear_model import LinearRegression\n",
        "model= LinearRegression()\n",
        "#Ajustamos el modelo con las variables antes declaradas\n",
        "model.fit(X=Vars_Indep, y=Var_Dep)\n",
        "#Verificamos los coeficientes obtenidos para el modelo ajustado\n",
        "model.__dict__"
      ],
      "metadata": {
        "id": "NGRULsraKt8M",
        "colab": {
          "base_uri": "https://localhost:8080/"
        },
        "outputId": "6fd2cdb3-3f95-4f9c-985e-26a8fd47f93b"
      },
      "execution_count": 35,
      "outputs": [
        {
          "output_type": "execute_result",
          "data": {
            "text/plain": [
              "{'fit_intercept': True,\n",
              " 'copy_X': True,\n",
              " 'n_jobs': None,\n",
              " 'positive': False,\n",
              " 'feature_names_in_': array(['costo_total'], dtype=object),\n",
              " 'n_features_in_': 1,\n",
              " 'coef_': array([0.01746764]),\n",
              " 'rank_': 1,\n",
              " 'singular_': array([359751.03527969]),\n",
              " 'intercept_': 138.18719129020198}"
            ]
          },
          "metadata": {},
          "execution_count": 35
        }
      ]
    },
    {
      "cell_type": "markdown",
      "source": [
        "1er Modelo Matemático: y=0.01746764x + 138.18719129020198"
      ],
      "metadata": {
        "id": "8SsQheYOKW_g"
      }
    },
    {
      "cell_type": "code",
      "source": [
        "y_pred= model.predict(X=df[[\"costo_total\"]])\n",
        "y_pred"
      ],
      "metadata": {
        "id": "vBGQx2gLgI3-",
        "colab": {
          "base_uri": "https://localhost:8080/"
        },
        "outputId": "eafb1d7c-d669-4209-a9a7-725a1a300864"
      },
      "execution_count": 41,
      "outputs": [
        {
          "output_type": "execute_result",
          "data": {
            "text/plain": [
              "array([ 671.05775453,  729.25859704,  678.4483377 , ...,  994.3957685 ,\n",
              "       1591.18536001, 1073.84453765])"
            ]
          },
          "metadata": {},
          "execution_count": 41
        }
      ]
    },
    {
      "cell_type": "code",
      "source": [
        "coef_Deter=model.score(X=Vars_Indep, y=Var_Dep)\n",
        "coef_Deter"
      ],
      "metadata": {
        "colab": {
          "base_uri": "https://localhost:8080/"
        },
        "id": "3Vfvyqz-pFTL",
        "outputId": "1f12574e-07c4-42e0-995c-b8cb583bebba"
      },
      "execution_count": 42,
      "outputs": [
        {
          "output_type": "execute_result",
          "data": {
            "text/plain": [
              "0.12651828911196095"
            ]
          },
          "metadata": {},
          "execution_count": 42
        }
      ]
    },
    {
      "cell_type": "code",
      "source": [
        "coef_Correl=np.sqrt(coef_Deter)\n",
        "coef_Correl"
      ],
      "metadata": {
        "colab": {
          "base_uri": "https://localhost:8080/"
        },
        "id": "CdLJTmkGnnus",
        "outputId": "6b084ee6-b09d-4e4d-c407-72c04e63bf31"
      },
      "execution_count": 43,
      "outputs": [
        {
          "output_type": "execute_result",
          "data": {
            "text/plain": [
              "0.3556940948511248"
            ]
          },
          "metadata": {},
          "execution_count": 43
        }
      ]
    },
    {
      "cell_type": "code",
      "source": [
        "#Declaramos las variables dependientes e independientes para la regresión lineal\n",
        "Vars_Indep= df[['costo_total']]\n",
        "Var_Dep= df['enganche']\n",
        "#Se define model como la función de regresión lineal\n",
        "from sklearn.linear_model import LinearRegression\n",
        "model= LinearRegression()\n",
        "#Ajustamos el modelo con las variables antes declaradas\n",
        "model.fit(X=Vars_Indep, y=Var_Dep)\n",
        "#Verificamos los coeficientes obtenidos para el modelo ajustado\n",
        "model.__dict__"
      ],
      "metadata": {
        "id": "VgL3UxrXnCJy",
        "colab": {
          "base_uri": "https://localhost:8080/"
        },
        "outputId": "0b88bdc0-692a-4f73-d7f0-878303072869"
      },
      "execution_count": 44,
      "outputs": [
        {
          "output_type": "execute_result",
          "data": {
            "text/plain": [
              "{'fit_intercept': True,\n",
              " 'copy_X': True,\n",
              " 'n_jobs': None,\n",
              " 'positive': False,\n",
              " 'feature_names_in_': array(['costo_total'], dtype=object),\n",
              " 'n_features_in_': 1,\n",
              " 'coef_': array([0.0710633]),\n",
              " 'rank_': 1,\n",
              " 'singular_': array([359751.03527969]),\n",
              " 'intercept_': 521.3984452016502}"
            ]
          },
          "metadata": {},
          "execution_count": 44
        }
      ]
    },
    {
      "cell_type": "markdown",
      "source": [
        "**2do Modelo Matemático: y= 0.0710633x + 521.3984452016502**"
      ],
      "metadata": {
        "id": "poaUWPQgnJO3"
      }
    },
    {
      "cell_type": "code",
      "source": [
        "y_pred= model.predict(X=df[[\"costo_total\"]])\n",
        "y_pred"
      ],
      "metadata": {
        "id": "jEeG-YI4naw-",
        "colab": {
          "base_uri": "https://localhost:8080/"
        },
        "outputId": "944eff5c-2897-49c1-8de9-0ac99979ab9b"
      },
      "execution_count": 46,
      "outputs": [
        {
          "output_type": "execute_result",
          "data": {
            "text/plain": [
              "array([ 671.05775453,  729.25859704,  678.4483377 , ...,  994.3957685 ,\n",
              "       1591.18536001, 1073.84453765])"
            ]
          },
          "metadata": {},
          "execution_count": 46
        }
      ]
    },
    {
      "cell_type": "code",
      "source": [
        "coef_Deter=model.score(X=Vars_Indep, y=Var_Dep)\n",
        "coef_Deter"
      ],
      "metadata": {
        "colab": {
          "base_uri": "https://localhost:8080/"
        },
        "id": "VDqmKwFjnoix",
        "outputId": "7e9993a9-2dac-4095-df41-d5fc7d2f20c6"
      },
      "execution_count": 47,
      "outputs": [
        {
          "output_type": "execute_result",
          "data": {
            "text/plain": [
              "0.12651828911196095"
            ]
          },
          "metadata": {},
          "execution_count": 47
        }
      ]
    },
    {
      "cell_type": "code",
      "source": [
        "coef_Correl=np.sqrt(coef_Deter)\n",
        "coef_Correl"
      ],
      "metadata": {
        "colab": {
          "base_uri": "https://localhost:8080/"
        },
        "id": "8ZVgl0VZnrxs",
        "outputId": "c9f0650a-18d3-4fa3-d026-683028f8d469"
      },
      "execution_count": 48,
      "outputs": [
        {
          "output_type": "execute_result",
          "data": {
            "text/plain": [
              "0.3556940948511248"
            ]
          },
          "metadata": {},
          "execution_count": 48
        }
      ]
    },
    {
      "cell_type": "code",
      "source": [
        "#Declaramos las variables dependientes e independientes para la regresión lineal\n",
        "Vars_Indep= df[['costo_total']]\n",
        "Var_Dep= df['precio']\n",
        "#Se define model como la función de regresión lineal\n",
        "from sklearn.linear_model import LinearRegression\n",
        "model= LinearRegression()\n",
        "#Ajustamos el modelo con las variables antes declaradas\n",
        "model.fit(X=Vars_Indep, y=Var_Dep)\n",
        "#Verificamos los coeficientes obtenidos para el modelo ajustado\n",
        "model.__dict__"
      ],
      "metadata": {
        "id": "L0t0Azbkn3AG",
        "colab": {
          "base_uri": "https://localhost:8080/"
        },
        "outputId": "06e34b6f-c0c6-4af1-e7ec-eafa84164b86"
      },
      "execution_count": 49,
      "outputs": [
        {
          "output_type": "execute_result",
          "data": {
            "text/plain": [
              "{'fit_intercept': True,\n",
              " 'copy_X': True,\n",
              " 'n_jobs': None,\n",
              " 'positive': False,\n",
              " 'feature_names_in_': array(['costo_total'], dtype=object),\n",
              " 'n_features_in_': 1,\n",
              " 'coef_': array([0.49782094]),\n",
              " 'rank_': 1,\n",
              " 'singular_': array([359751.03527969]),\n",
              " 'intercept_': 1159.6103776221248}"
            ]
          },
          "metadata": {},
          "execution_count": 49
        }
      ]
    },
    {
      "cell_type": "markdown",
      "source": [
        "**3er Modelo Matemático: y=0.49782094x + 1159.6103776221248**"
      ],
      "metadata": {
        "id": "OZOUTM4Sn6av"
      }
    },
    {
      "cell_type": "code",
      "source": [
        "y_pred= model.predict(X=df[[\"costo_total\"]])\n",
        "y_pred"
      ],
      "metadata": {
        "id": "XfgHxvu2oLXF",
        "colab": {
          "base_uri": "https://localhost:8080/"
        },
        "outputId": "80d77e0e-bd94-47a9-9145-2a7c6ecd3a4a"
      },
      "execution_count": 50,
      "outputs": [
        {
          "output_type": "execute_result",
          "data": {
            "text/plain": [
              "array([2208.02128568, 2615.73663882, 2259.79466386, ..., 4473.10658087,\n",
              "       8653.80686857, 5029.67039626])"
            ]
          },
          "metadata": {},
          "execution_count": 50
        }
      ]
    },
    {
      "cell_type": "code",
      "source": [
        "coef_Deter=model.score(X=Vars_Indep, y=Var_Dep)\n",
        "coef_Deter"
      ],
      "metadata": {
        "colab": {
          "base_uri": "https://localhost:8080/"
        },
        "id": "cTiv2ht4oOj8",
        "outputId": "a8691ef5-0125-4835-916d-177833238c4d"
      },
      "execution_count": 51,
      "outputs": [
        {
          "output_type": "execute_result",
          "data": {
            "text/plain": [
              "0.7610877215641616"
            ]
          },
          "metadata": {},
          "execution_count": 51
        }
      ]
    },
    {
      "cell_type": "code",
      "source": [
        "coef_Correl=np.sqrt(coef_Deter)\n",
        "coef_Correl"
      ],
      "metadata": {
        "colab": {
          "base_uri": "https://localhost:8080/"
        },
        "id": "VTimQMM5oS2M",
        "outputId": "8f84a1ca-9524-446f-f8f1-075c47bf0149"
      },
      "execution_count": 52,
      "outputs": [
        {
          "output_type": "execute_result",
          "data": {
            "text/plain": [
              "0.872403416754062"
            ]
          },
          "metadata": {},
          "execution_count": 52
        }
      ]
    },
    {
      "cell_type": "code",
      "source": [
        "  #Declaramos las variables dependientes e independientes para la regresión lineal\n",
        "  Vars_Indep= df[['costo_total']]\n",
        "  Var_Dep= df['descuento']\n",
        "  #Se define model como la función de regresión lineal\n",
        "  from sklearn.linear_model import LinearRegression\n",
        "  model= LinearRegression()\n",
        "  #Ajustamos el modelo con las variables antes declaradas\n",
        "  model.fit(X=Vars_Indep, y=Var_Dep)\n",
        "  #Verificamos los coeficientes obtenidos para el modelo ajustado\n",
        "  model.__dict__"
      ],
      "metadata": {
        "id": "6Z3iMF1nocrg",
        "colab": {
          "base_uri": "https://localhost:8080/"
        },
        "outputId": "c1377970-5a67-496b-9166-91aa76a52421"
      },
      "execution_count": 54,
      "outputs": [
        {
          "output_type": "execute_result",
          "data": {
            "text/plain": [
              "{'fit_intercept': True,\n",
              " 'copy_X': True,\n",
              " 'n_jobs': None,\n",
              " 'positive': False,\n",
              " 'feature_names_in_': array(['costo_total'], dtype=object),\n",
              " 'n_features_in_': 1,\n",
              " 'coef_': array([0.00206296]),\n",
              " 'rank_': 1,\n",
              " 'singular_': array([359751.03527969]),\n",
              " 'intercept_': 66.71750919686258}"
            ]
          },
          "metadata": {},
          "execution_count": 54
        }
      ]
    },
    {
      "cell_type": "markdown",
      "source": [
        "**4to Modelo Matemático: y=-0.03282908x +10.172388024218485**"
      ],
      "metadata": {
        "id": "QH0kJucFooQ5"
      }
    },
    {
      "cell_type": "code",
      "source": [
        "y_pred= model.predict(X=df[[\"costo_total\"]])\n",
        "y_pred"
      ],
      "metadata": {
        "id": "euft4Pnvojld",
        "colab": {
          "base_uri": "https://localhost:8080/"
        },
        "outputId": "50b3b0d9-98e9-4b24-a8eb-a49b8ff4bd29"
      },
      "execution_count": 55,
      "outputs": [
        {
          "output_type": "execute_result",
          "data": {
            "text/plain": [
              "array([71.06210139, 72.75166503, 71.27664916, ..., 80.44856602,\n",
              "       97.77329787, 82.75495447])"
            ]
          },
          "metadata": {},
          "execution_count": 55
        }
      ]
    },
    {
      "cell_type": "code",
      "source": [
        "coef_Deter=model.score(X=Vars_Indep, y=Var_Dep)\n",
        "coef_Deter"
      ],
      "metadata": {
        "colab": {
          "base_uri": "https://localhost:8080/"
        },
        "id": "WDDTRgdyokPK",
        "outputId": "a4efef33-e2c9-4dd0-f03e-3a3abb5b384b"
      },
      "execution_count": 56,
      "outputs": [
        {
          "output_type": "execute_result",
          "data": {
            "text/plain": [
              "0.0013645781541555824"
            ]
          },
          "metadata": {},
          "execution_count": 56
        }
      ]
    },
    {
      "cell_type": "code",
      "source": [
        "coef_Correl=np.sqrt(coef_Deter)\n",
        "coef_Correl"
      ],
      "metadata": {
        "colab": {
          "base_uri": "https://localhost:8080/"
        },
        "id": "ZJnlD0y-olsz",
        "outputId": "9af0667f-f5f4-4bdd-d986-6ce277f42de4"
      },
      "execution_count": 57,
      "outputs": [
        {
          "output_type": "execute_result",
          "data": {
            "text/plain": [
              "0.036940196996707836"
            ]
          },
          "metadata": {},
          "execution_count": 57
        }
      ]
    },
    {
      "cell_type": "code",
      "source": [
        "#Declaramos las variables dependientes e independientes para la regresión lineal\n",
        "Vars_Indep= df[['costo_total']]\n",
        "Var_Dep= df['monto_financiado']\n",
        "#Se define model como la función de regresión lineal\n",
        "from sklearn.linear_model import LinearRegression\n",
        "model= LinearRegression()\n",
        "#Ajustamos el modelo con las variables antes declaradas\n",
        "model.fit(X=Vars_Indep, y=Var_Dep)\n",
        "#Verificamos los coeficientes obtenidos para el modelo ajustado\n",
        "model.__dict__"
      ],
      "metadata": {
        "id": "4QFzh4nOo5NZ",
        "colab": {
          "base_uri": "https://localhost:8080/"
        },
        "outputId": "0cf4d22d-7e0c-4213-880b-3c170db6b57d"
      },
      "execution_count": 59,
      "outputs": [
        {
          "output_type": "execute_result",
          "data": {
            "text/plain": [
              "{'fit_intercept': True,\n",
              " 'copy_X': True,\n",
              " 'n_jobs': None,\n",
              " 'positive': False,\n",
              " 'feature_names_in_': array(['costo_total'], dtype=object),\n",
              " 'n_features_in_': 1,\n",
              " 'coef_': array([0.42741682]),\n",
              " 'rank_': 1,\n",
              " 'singular_': array([359751.03527969]),\n",
              " 'intercept_': 639.9922581004103}"
            ]
          },
          "metadata": {},
          "execution_count": 59
        }
      ]
    },
    {
      "cell_type": "markdown",
      "source": [
        "**5to Modelo Matemático: y=0.42741682x + 639.9922581004103**"
      ],
      "metadata": {
        "id": "Zn5kCoEntEOt"
      }
    },
    {
      "cell_type": "code",
      "source": [
        "y_pred= model.predict(X=df[[\"costo_total\"]])\n",
        "y_pred"
      ],
      "metadata": {
        "id": "ifymacNAsreT",
        "colab": {
          "base_uri": "https://localhost:8080/"
        },
        "outputId": "15b7dccc-c483-43c3-8c60-0343417816cf"
      },
      "execution_count": 60,
      "outputs": [
        {
          "output_type": "execute_result",
          "data": {
            "text/plain": [
              "array([1540.1320761 , 1890.18644977, 1584.58342514, ..., 3484.87859647,\n",
              "       7074.32503122, 3962.73059862])"
            ]
          },
          "metadata": {},
          "execution_count": 60
        }
      ]
    },
    {
      "cell_type": "code",
      "source": [
        "coef_Deter=model.score(X=Vars_Indep, y=Var_Dep)\n",
        "coef_Deter"
      ],
      "metadata": {
        "id": "3GaOcfA8sthd",
        "colab": {
          "base_uri": "https://localhost:8080/"
        },
        "outputId": "79f5e63f-7464-4c7d-db21-6ca1696e3295"
      },
      "execution_count": 61,
      "outputs": [
        {
          "output_type": "execute_result",
          "data": {
            "text/plain": [
              "0.8646380417764322"
            ]
          },
          "metadata": {},
          "execution_count": 61
        }
      ]
    },
    {
      "cell_type": "code",
      "source": [
        "coef_Correl=np.sqrt(coef_Deter)\n",
        "coef_Correl"
      ],
      "metadata": {
        "id": "wcypiX3lsu5k",
        "colab": {
          "base_uri": "https://localhost:8080/"
        },
        "outputId": "de03a4da-bc76-4eab-b8a9-5091ca6ddf9f"
      },
      "execution_count": 62,
      "outputs": [
        {
          "output_type": "execute_result",
          "data": {
            "text/plain": [
              "0.929859151579653"
            ]
          },
          "metadata": {},
          "execution_count": 62
        }
      ]
    },
    {
      "cell_type": "code",
      "source": [
        "#Declaramos las variables dependientes e independientes para la regresión lineal\n",
        "Vars_Indep= df[['costo_total']]\n",
        "Var_Dep= df['status']\n",
        "#Se define model como la función de regresión lineal\n",
        "from sklearn.linear_model import LinearRegression\n",
        "model= LinearRegression()\n",
        "#Ajustamos el modelo con las variables antes declaradas\n",
        "model.fit(X=Vars_Indep, y=Var_Dep)\n",
        "#Verificamos los coeficientes obtenidos para el modelo ajustado\n",
        "model.__dict__"
      ],
      "metadata": {
        "id": "-5Ma9s6BsxjZ",
        "colab": {
          "base_uri": "https://localhost:8080/"
        },
        "outputId": "7edca95a-c586-4de5-ce93-6a35a42c6499"
      },
      "execution_count": 63,
      "outputs": [
        {
          "output_type": "execute_result",
          "data": {
            "text/plain": [
              "{'fit_intercept': True,\n",
              " 'copy_X': True,\n",
              " 'n_jobs': None,\n",
              " 'positive': False,\n",
              " 'feature_names_in_': array(['costo_total'], dtype=object),\n",
              " 'n_features_in_': 1,\n",
              " 'coef_': array([-3.70544176e-05]),\n",
              " 'rank_': 1,\n",
              " 'singular_': array([359751.03527969]),\n",
              " 'intercept_': 1.4665759510725238}"
            ]
          },
          "metadata": {},
          "execution_count": 63
        }
      ]
    },
    {
      "cell_type": "markdown",
      "source": [
        "**6to Modelo Matemático: y=-3.70544176e-05x + 1.4665759510725238**"
      ],
      "metadata": {
        "id": "zlJcg62ds5Hm"
      }
    },
    {
      "cell_type": "code",
      "source": [
        "y_pred= model.predict(X=df[[\"costo_total\"]])\n",
        "y_pred"
      ],
      "metadata": {
        "id": "xGEalM6Fs1LO",
        "colab": {
          "base_uri": "https://localhost:8080/"
        },
        "outputId": "5ac95f1a-d978-4858-84d4-a798502c3231"
      },
      "execution_count": 64,
      "outputs": [
        {
          "output_type": "execute_result",
          "data": {
            "text/plain": [
              "array([1.38853935, 1.35819178, 1.38468569, ..., 1.21994175, 0.90875875,\n",
              "       1.17851491])"
            ]
          },
          "metadata": {},
          "execution_count": 64
        }
      ]
    },
    {
      "cell_type": "code",
      "source": [
        "coef_Deter=model.score(X=Vars_Indep, y=Var_Dep)\n",
        "coef_Deter"
      ],
      "metadata": {
        "id": "0TYxgGYws2d1",
        "colab": {
          "base_uri": "https://localhost:8080/"
        },
        "outputId": "6d2949a1-19d1-486c-c7fa-893bf8b97cc9"
      },
      "execution_count": 65,
      "outputs": [
        {
          "output_type": "execute_result",
          "data": {
            "text/plain": [
              "0.038270065054901714"
            ]
          },
          "metadata": {},
          "execution_count": 65
        }
      ]
    },
    {
      "cell_type": "code",
      "source": [
        "coef_Correl=np.sqrt(coef_Deter)\n",
        "coef_Correl"
      ],
      "metadata": {
        "id": "wOe7cz6ps322",
        "colab": {
          "base_uri": "https://localhost:8080/"
        },
        "outputId": "70123ee8-b317-47d9-d815-035fa1a5a61d"
      },
      "execution_count": 66,
      "outputs": [
        {
          "output_type": "execute_result",
          "data": {
            "text/plain": [
              "0.19562736274586362"
            ]
          },
          "metadata": {},
          "execution_count": 66
        }
      ]
    },
    {
      "cell_type": "code",
      "source": [
        "#Declaramos las variables dependientes e independientes para la regresión lineal\n",
        "Vars_Indep= df[['costo_total']]\n",
        "Var_Dep= df['fraude']\n",
        "#Se define model como la función de regresión lineal\n",
        "from sklearn.linear_model import LinearRegression\n",
        "model= LinearRegression()\n",
        "#Ajustamos el modelo con las variables antes declaradas\n",
        "model.fit(X=Vars_Indep, y=Var_Dep)\n",
        "#Verificamos los coeficientes obtenidos para el modelo ajustado\n",
        "model.__dict__"
      ],
      "metadata": {
        "id": "A9WXtPritH8T",
        "colab": {
          "base_uri": "https://localhost:8080/"
        },
        "outputId": "3de7b807-18eb-4d5c-f0bd-c4e5383225ff"
      },
      "execution_count": 67,
      "outputs": [
        {
          "output_type": "execute_result",
          "data": {
            "text/plain": [
              "{'fit_intercept': True,\n",
              " 'copy_X': True,\n",
              " 'n_jobs': None,\n",
              " 'positive': False,\n",
              " 'feature_names_in_': array(['costo_total'], dtype=object),\n",
              " 'n_features_in_': 1,\n",
              " 'coef_': array([6.70258031e-06]),\n",
              " 'rank_': 1,\n",
              " 'singular_': array([359751.03527969]),\n",
              " 'intercept_': 0.03661591611649644}"
            ]
          },
          "metadata": {},
          "execution_count": 67
        }
      ]
    },
    {
      "cell_type": "markdown",
      "source": [
        "**7mo Modelo Matemático: y=6.70258031e-06x + 0.03661591611649644**"
      ],
      "metadata": {
        "id": "yY2qIWwftlV_"
      }
    },
    {
      "cell_type": "code",
      "source": [
        "y_pred= model.predict(X=df[[\"costo_total\"]])\n",
        "y_pred"
      ],
      "metadata": {
        "id": "I_NJFPWxtf9D",
        "colab": {
          "base_uri": "https://localhost:8080/"
        },
        "outputId": "d31d23fd-3806-4615-e9dc-1cde95149922"
      },
      "execution_count": 68,
      "outputs": [
        {
          "output_type": "execute_result",
          "data": {
            "text/plain": [
              "array([0.05073155, 0.05622096, 0.05142862, ..., 0.08122829, 0.13751656,\n",
              "       0.08872178])"
            ]
          },
          "metadata": {},
          "execution_count": 68
        }
      ]
    },
    {
      "cell_type": "code",
      "source": [
        "coef_Deter=model.score(X=Vars_Indep, y=Var_Dep)\n",
        "coef_Deter"
      ],
      "metadata": {
        "colab": {
          "base_uri": "https://localhost:8080/"
        },
        "id": "ENCwmCRgthOa",
        "outputId": "b0b8935d-1e3e-4738-ad9c-f561953dcc36"
      },
      "execution_count": 69,
      "outputs": [
        {
          "output_type": "execute_result",
          "data": {
            "text/plain": [
              "0.0036945107407460043"
            ]
          },
          "metadata": {},
          "execution_count": 69
        }
      ]
    },
    {
      "cell_type": "code",
      "source": [
        "coef_Correl=np.sqrt(coef_Deter)\n",
        "coef_Correl"
      ],
      "metadata": {
        "colab": {
          "base_uri": "https://localhost:8080/"
        },
        "id": "-qnTLoAPtin8",
        "outputId": "32de4de9-d989-4364-8f5a-0dd4c76c36a5"
      },
      "execution_count": 70,
      "outputs": [
        {
          "output_type": "execute_result",
          "data": {
            "text/plain": [
              "0.06078248712208151"
            ]
          },
          "metadata": {},
          "execution_count": 70
        }
      ]
    },
    {
      "cell_type": "code",
      "source": [
        "#Declaramos las variables dependientes e independientes para la regresión lineal\n",
        "Vars_Indep= df[['costo_total']]\n",
        "Var_Dep= df['pagos_realizados']\n",
        "#Se define model como la función de regresión lineal\n",
        "from sklearn.linear_model import LinearRegression\n",
        "model= LinearRegression()\n",
        "#Ajustamos el modelo con las variables antes declaradas\n",
        "model.fit(X=Vars_Indep, y=Var_Dep)\n",
        "#Verificamos los coeficientes obtenidos para el modelo ajustado\n",
        "model.__dict__"
      ],
      "metadata": {
        "id": "30o9TK0Et5Ag",
        "colab": {
          "base_uri": "https://localhost:8080/"
        },
        "outputId": "9941f9a3-a3d5-4e78-f668-435a7f7093da"
      },
      "execution_count": 71,
      "outputs": [
        {
          "output_type": "execute_result",
          "data": {
            "text/plain": [
              "{'fit_intercept': True,\n",
              " 'copy_X': True,\n",
              " 'n_jobs': None,\n",
              " 'positive': False,\n",
              " 'feature_names_in_': array(['costo_total'], dtype=object),\n",
              " 'n_features_in_': 1,\n",
              " 'coef_': array([0.00053865]),\n",
              " 'rank_': 1,\n",
              " 'singular_': array([359751.03527969]),\n",
              " 'intercept_': 7.110616951868075}"
            ]
          },
          "metadata": {},
          "execution_count": 71
        }
      ]
    },
    {
      "cell_type": "markdown",
      "source": [
        "**8vo Modelo Matemático: y=0.00053865x + 7.110616951868075**"
      ],
      "metadata": {
        "id": "4WNhNE4K_i9D"
      }
    },
    {
      "cell_type": "code",
      "source": [
        "y_pred= model.predict(X=df[[\"costo_total\"]])\n",
        "y_pred"
      ],
      "metadata": {
        "id": "KkQN4Nue_5Ot"
      },
      "execution_count": null,
      "outputs": []
    },
    {
      "cell_type": "code",
      "source": [
        "coef_Deter=model.score(X=Vars_Indep, y=Var_Dep)\n",
        "coef_Deter"
      ],
      "metadata": {
        "colab": {
          "base_uri": "https://localhost:8080/"
        },
        "id": "mmwNBkN5_8LU",
        "outputId": "94757d0a-f498-43ac-ce87-75f6aaa30637"
      },
      "execution_count": 73,
      "outputs": [
        {
          "output_type": "execute_result",
          "data": {
            "text/plain": [
              "0.01752459482404467"
            ]
          },
          "metadata": {},
          "execution_count": 73
        }
      ]
    },
    {
      "cell_type": "code",
      "source": [
        "coef_Correl=np.sqrt(coef_Deter)\n",
        "coef_Correl"
      ],
      "metadata": {
        "colab": {
          "base_uri": "https://localhost:8080/"
        },
        "id": "eeviAixn_9nr",
        "outputId": "e03a02b0-d40a-4f74-ce89-fa629019dfbd"
      },
      "execution_count": 74,
      "outputs": [
        {
          "output_type": "execute_result",
          "data": {
            "text/plain": [
              "0.13238049261142923"
            ]
          },
          "metadata": {},
          "execution_count": 74
        }
      ]
    }
  ]
}